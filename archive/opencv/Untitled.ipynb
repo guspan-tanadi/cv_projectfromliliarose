{
 "cells": [
  {
   "cell_type": "code",
   "execution_count": 1,
   "id": "statistical-satin",
   "metadata": {},
   "outputs": [],
   "source": [
    "from __future__ import print_function\n",
    "import sys\n",
    "import cv2\n",
    "from random import randint\n",
    "import argparse\n",
    "\n",
    "\n",
    "trackerTypes = ['BOOSTING', 'MIL', 'KCF','TLD', 'MEDIANFLOW', 'GOTURN', 'MOSSE', 'CSRT']\n",
    "\n",
    "def createTrackerByName(trackerType):\n",
    "  # Create a tracker based on tracker name\n",
    "  if trackerType == trackerTypes[0]:\n",
    "    tracker = cv2.TrackerBoosting_create()\n",
    "  elif trackerType == trackerTypes[1]:\n",
    "    tracker = cv2.TrackerMIL_create()\n",
    "  elif trackerType == trackerTypes[2]:\n",
    "    tracker = cv2.TrackerKCF_create()\n",
    "  elif trackerType == trackerTypes[3]:\n",
    "    tracker = cv2.TrackerTLD_create()\n",
    "  elif trackerType == trackerTypes[4]:\n",
    "    tracker = cv2.TrackerMedianFlow_create()\n",
    "  elif trackerType == trackerTypes[5]:\n",
    "    tracker = cv2.TrackerGOTURN_create()\n",
    "  elif trackerType == trackerTypes[6]:\n",
    "    tracker = cv2.TrackerMOSSE_create()\n",
    "  elif trackerType == trackerTypes[7]:\n",
    "    tracker = cv2.TrackerCSRT_create()\n",
    "  else:\n",
    "    tracker = None\n",
    "    print('Incorrect tracker name')\n",
    "    print('Available trackers are:')\n",
    "    for t in trackerTypes:\n",
    "      print(t)\n",
    "\n",
    "  return tracker\n",
    "\n"
   ]
  },
  {
   "cell_type": "code",
   "execution_count": 4,
   "id": "color-evans",
   "metadata": {},
   "outputs": [
    {
     "name": "stdout",
     "output_type": "stream",
     "text": [
      "../shark_human_annotations/20200805_OneSharkSUPFollowsKids.mp4\r\n"
     ]
    }
   ],
   "source": [
    "ls ../shark_human_annotations/20200805_OneSharkSUPFollowsKids.mp4"
   ]
  },
  {
   "cell_type": "code",
   "execution_count": 5,
   "id": "silent-federal",
   "metadata": {},
   "outputs": [],
   "source": [
    "vpath  ='../shark_human_annotations/20200805_OneSharkSUPFollowsKids.mp4'\n",
    "cap = cv2.VideoCapture(vpath)"
   ]
  },
  {
   "cell_type": "code",
   "execution_count": 6,
   "id": "according-mobility",
   "metadata": {},
   "outputs": [],
   "source": [
    "success, frame = cap.read()"
   ]
  },
  {
   "cell_type": "code",
   "execution_count": null,
   "id": "sublime-reason",
   "metadata": {},
   "outputs": [],
   "source": [
    "while True:\n",
    "      # draw bounding boxes over objects\n",
    "      # selectROI's default behaviour is to draw box starting from the center\n",
    "      # when fromCenter is set to false, you can draw box starting from top left corner\n",
    "      bbox = cv2.selectROI('MultiTracker', frame)\n",
    "      bboxes.append(bbox)\n",
    "      colors.append((randint(0, 255), randint(0, 255), randint(0, 255)))\n",
    "      print(\"Press q to quit selecting boxes and start tracking\")\n",
    "      print(\"Press any other key to select next object\")\n",
    "      k = cv2.waitKey(0) & 0xFF\n",
    "      if (k == 113):  # q is pressed\n",
    "        break\n",
    "\n",
    "      print('Selected bounding boxes {}'.format(bboxes))\n",
    "\n"
   ]
  },
  {
   "cell_type": "code",
   "execution_count": null,
   "id": "electoral-progress",
   "metadata": {},
   "outputs": [],
   "source": []
  }
 ],
 "metadata": {
  "kernelspec": {
   "display_name": "Python 3",
   "language": "python",
   "name": "python3"
  },
  "language_info": {
   "codemirror_mode": {
    "name": "ipython",
    "version": 3
   },
   "file_extension": ".py",
   "mimetype": "text/x-python",
   "name": "python",
   "nbconvert_exporter": "python",
   "pygments_lexer": "ipython3",
   "version": "3.9.12"
  }
 },
 "nbformat": 4,
 "nbformat_minor": 5
}
