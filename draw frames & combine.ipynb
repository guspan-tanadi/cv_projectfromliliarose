{
 "cells": [
  {
   "cell_type": "code",
   "execution_count": 1,
   "id": "effective-motel",
   "metadata": {},
   "outputs": [],
   "source": [
    "import cv2\n",
    "import matplotlib.pyplot as plt\n",
    "import numpy as np\n",
    "import json\n",
    "import os\n",
    "from pycocotools.coco import COCO\n",
    "plt.rcParams[\"figure.figsize\"] = (15,15)"
   ]
  },
  {
   "cell_type": "code",
   "execution_count": 3,
   "id": "declared-fossil",
   "metadata": {},
   "outputs": [],
   "source": [
    "def mdnet2list(video_fin, video_results, frames, offset=-1):\n",
    "    '''\n",
    "    video_fin: mdnet input folder for a single video \n",
    "    \n",
    "    results: list of filenames w/ video results \n",
    "    \n",
    "    frames: list of all the frames \n",
    "    \n",
    "    output: list of dictionaries  \n",
    "    '''\n",
    "    \n",
    "    output = [{'img': frame, 'bbox': []} for frame in sorted(os.listdir(frames)) if frame.endswith('.jpg')]\n",
    "    frame_num = int(output[-1]['img'].split('.jpg')[0].split('-')[-1])\n",
    "    assert(frame_num == len(output))\n",
    "#     print(output[0])\n",
    "    \n",
    "    for result in video_results: \n",
    "        \n",
    "        with open(result) as f:\n",
    "            print(result)\n",
    "            res_contts = json.load(f)\n",
    "        \n",
    "        \n",
    "        fn = result.split('/')[-1]\n",
    "        input_fn = f'{video_fin}/{fn}'\n",
    "        with open(input_fn) as f:\n",
    "            i_contts = json.load(f)\n",
    "        \n",
    "        tmp = i_contts['img_list'][0].split('/')[-1]\n",
    "        img_i = int(tmp.split('.jpg')[0].split('-')[-1]) + offset\n",
    "#         print('img_i', img_i,tmp)\n",
    "        \n",
    "        for bbox in res_contts['res']:\n",
    "            if img_i < frame_num:\n",
    "                output[img_i]['bbox'].append(bbox)\n",
    "                img_i +=1\n",
    "            else:\n",
    "                print('dropped', img_i, bbox)\n",
    "#             except Exception:\n",
    "#                 print(img_i, len(output))\n",
    "        \n",
    "    \n",
    "    return output\n",
    "    "
   ]
  },
  {
   "cell_type": "code",
   "execution_count": 4,
   "id": "external-anime",
   "metadata": {},
   "outputs": [],
   "source": [
    "def mdnet2dict_all(fin_folder = 'mdnet_input', results_fldr='results', frame_fldr='shark_frames'):\n",
    "    '''\n",
    "    fin_folder: folder containing all mdnet input (for figuring out where it starts out)\n",
    "    \n",
    "    results: results folder containing all the results\n",
    "    \n",
    "    '''\n",
    "    \n",
    "    # get all video folders \n",
    "    fin_fldrs = [fldr for fldr in os.listdir(fin_folder) if os.path.isdir(fin_folder)]\n",
    "#     fin_fldrs = ['20210910_SUPInteraction']\n",
    "    fldr2bbox = {}\n",
    "    # get list of corresponding video results in results folder\n",
    "    # expecting it to have it be the same \n",
    "    for fldr in fin_fldrs:\n",
    "        video_fin = f'{fin_folder}/{fldr}'\n",
    "        \n",
    "        video_results = [f'{results_fldr}/{f}' for f in os.listdir(results_fldr) if f.startswith(fldr) and f.endswith('.json')]\n",
    "        \n",
    "        frames = f'{frame_fldr}/{fldr}'\n",
    "        if len(video_results) >0:\n",
    "            fldr2bbox[fldr] = mdnet2list(video_fin, video_results, frames)\n",
    "    return fldr2bbox"
   ]
  },
  {
   "cell_type": "code",
   "execution_count": 5,
   "id": "silver-circuit",
   "metadata": {},
   "outputs": [
    {
     "name": "stdout",
     "output_type": "stream",
     "text": [
      "results/2020731_JWSSeaLIonSUP_shark_0.json\n",
      "results/2020731_JWSSeaLIonSUP_1_0.json\n",
      "results/2020731_JWSSeaLIonSUP_human_1.json\n",
      "results/20210121_SharkNearTwoSurfers_shark_0.json\n",
      "results/20210121_SharkNearTwoSurfers_human_0.json\n",
      "results/20210121_SharkNearTwoSurfers_1_1.json\n",
      "results/20210121_SharkNearTwoSurfers_1_0.json\n",
      "results/20210121_SUPNexttoShark_human_0.json\n",
      "results/20210121_SUPNexttoShark_1_0.json\n",
      "results/20210121_SUPNexttoShark_shark_0.json\n",
      "results/20200805_OneSharkSUPFollowsKids_1_0.json\n",
      "results/20200805_OneSharkSUPFollowsKids_shark_0.json\n",
      "results/20200805_OneSharkSUPSurfers_1_6.json\n",
      "results/20200805_OneSharkSUPSurfers_human_5.json\n",
      "results/20200805_OneSharkSUPSurfers_1_7.json\n",
      "results/20200805_OneSharkSUPSurfers_1_11.json\n",
      "results/20200805_OneSharkSUPSurfers_human_3.json\n",
      "results/20200805_OneSharkSUPSurfers_1_0.json\n",
      "results/20200805_OneSharkSUPSurfers_1_1.json\n",
      "results/20200805_OneSharkSUPSurfers_human_2.json\n",
      "results/20200805_OneSharkSUPSurfers_1_10.json\n",
      "results/20200805_OneSharkSUPSurfers_1_2.json\n",
      "results/20200805_OneSharkSUPSurfers_1_3.json\n",
      "results/20200805_OneSharkSUPSurfers_1_12.json\n",
      "results/20200805_OneSharkSUPSurfers_human_0.json\n",
      "results/20200805_OneSharkSUPSurfers_0_0.json\n",
      "results/20200805_OneSharkSUPSurfers_1_4.json\n",
      "results/20200805_OneSharkSUPSurfers_1_8.json\n",
      "results/20200805_OneSharkSUPSurfers_1_9.json\n",
      "results/20200805_OneSharkSUPSurfers_human_6.json\n",
      "results/20200805_OneSharkSUPSurfers_1_5.json\n"
     ]
    }
   ],
   "source": [
    "bboxes = mdnet2dict_all()"
   ]
  },
  {
   "cell_type": "code",
   "execution_count": 6,
   "id": "modified-sociology",
   "metadata": {},
   "outputs": [],
   "source": [
    "def generate_results_boxes(frames_fldr, bboxes_l, output_folder='test', box_thickness=10, draw_text=True, \n",
    "                            fontScale = 4, color = (36,255,12), # neon green\n",
    "                            font = cv2.FONT_HERSHEY_SIMPLEX, text_thickness = 10, show_img=None):\n",
    "    for frame in bboxes_l:\n",
    "#         print(frame)\n",
    "        fn = f\"{frames_fldr}/{frame['img']}\"\n",
    "        bboxes = frame['bbox']\n",
    "        image = cv2.cvtColor(cv2.imread(fn), cv2.COLOR_BGR2RGB)\n",
    "        \n",
    "        # adding annotations \n",
    "        for box in bboxes:\n",
    "            rects = np.array(box).astype(int)\n",
    "            s = rects[:2]\n",
    "            e = rects[:2] + rects[2:]\n",
    "            image = cv2.rectangle(image, s, e, color, box_thickness)\n",
    "            \n",
    "        if draw_text:\n",
    "            org = (50,150)\n",
    "            image = cv2.putText(image, frames_fldr, org, font, \n",
    "                   fontScale, color, text_thickness, cv2.LINE_AA)\n",
    "        \n",
    "        out_fn = f\"{output_folder}/{frame['img']}\"\n",
    "        if len(bboxes) >0 and not cv2.imwrite(out_fn, image):\n",
    "            print(out_fn)\n",
    "        if show"
   ]
  },
  {
   "cell_type": "code",
   "execution_count": 7,
   "id": "magnetic-consent",
   "metadata": {},
   "outputs": [
    {
     "name": "stdout",
     "output_type": "stream",
     "text": [
      "shark_frames/2020731_JWSSeaLIonSUP\n",
      "shark_frames/20210121_SharkNearTwoSurfers\n",
      "shark_frames/20210121_SUPNexttoShark\n",
      "shark_frames/20200805_OneSharkSUPFollowsKids\n",
      "shark_frames/20200805_OneSharkSUPSurfers\n"
     ]
    }
   ],
   "source": [
    "for k, v in bboxes.items():\n",
    "    frames_fldr = f'shark_frames/{k}'\n",
    "    print(frames_fldr)\n",
    "    generate_results_boxes(frames_fldr, v)"
   ]
  },
  {
   "cell_type": "code",
   "execution_count": null,
   "id": "reflected-surface",
   "metadata": {},
   "outputs": [],
   "source": []
  },
  {
   "cell_type": "code",
   "execution_count": null,
   "id": "parliamentary-domestic",
   "metadata": {},
   "outputs": [],
   "source": []
  },
  {
   "cell_type": "code",
   "execution_count": null,
   "id": "upper-finnish",
   "metadata": {},
   "outputs": [],
   "source": []
  },
  {
   "cell_type": "code",
   "execution_count": null,
   "id": "supreme-oakland",
   "metadata": {},
   "outputs": [],
   "source": []
  },
  {
   "cell_type": "code",
   "execution_count": 8,
   "id": "christian-latin",
   "metadata": {},
   "outputs": [
    {
     "name": "stdout",
     "output_type": "stream",
     "text": [
      "    4479\r\n"
     ]
    }
   ],
   "source": [
    "ls test | wc -l"
   ]
  },
  {
   "cell_type": "code",
   "execution_count": 9,
   "id": "prerequisite-compression",
   "metadata": {},
   "outputs": [
    {
     "name": "stdout",
     "output_type": "stream",
     "text": [
      "ffmpeg version 5.0.1 Copyright (c) 2000-2022 the FFmpeg developers\n",
      "  built with Apple clang version 13.0.0 (clang-1300.0.29.30)\n",
      "  configuration: --prefix=/usr/local/Cellar/ffmpeg/5.0.1 --enable-shared --enable-pthreads --enable-version3 --cc=clang --host-cflags= --host-ldflags= --enable-ffplay --enable-gnutls --enable-gpl --enable-libaom --enable-libbluray --enable-libdav1d --enable-libmp3lame --enable-libopus --enable-librav1e --enable-librist --enable-librubberband --enable-libsnappy --enable-libsrt --enable-libtesseract --enable-libtheora --enable-libvidstab --enable-libvmaf --enable-libvorbis --enable-libvpx --enable-libwebp --enable-libx264 --enable-libx265 --enable-libxml2 --enable-libxvid --enable-lzma --enable-libfontconfig --enable-libfreetype --enable-frei0r --enable-libass --enable-libopencore-amrnb --enable-libopencore-amrwb --enable-libopenjpeg --enable-libspeex --enable-libsoxr --enable-libzmq --enable-libzimg --disable-libjack --disable-indev=jack --enable-videotoolbox\n",
      "  libavutil      57. 17.100 / 57. 17.100\n",
      "  libavcodec     59. 18.100 / 59. 18.100\n",
      "  libavformat    59. 16.100 / 59. 16.100\n",
      "  libavdevice    59.  4.100 / 59.  4.100\n",
      "  libavfilter     8. 24.100 /  8. 24.100\n",
      "  libswscale      6.  4.100 /  6.  4.100\n",
      "  libswresample   4.  3.100 /  4.  3.100\n",
      "  libpostproc    56.  3.100 / 56.  3.100\n",
      "Input #0, image2, from 'test/*.jpg':\n",
      "  Duration: 00:02:29.30, start: 0.000000, bitrate: N/A\n",
      "  Stream #0:0: Video: mjpeg (Baseline), yuvj420p(pc, bt470bg/unknown/unknown), 3840x2160 [SAR 1:1 DAR 16:9], 30 fps, 30 tbr, 30 tbn\n",
      "Stream mapping:\n",
      "  Stream #0:0 -> #0:0 (mjpeg (native) -> h264 (libx264))\n",
      "Press [q] to stop, [?] for help\n",
      "\u001b[1;34m[swscaler @ 0x7fc5cb869000] \u001b[0m\u001b[1;34m[swscaler @ 0x7fc5cb876000] \u001b[0m\u001b[0;33mdeprecated pixel format used, make sure you did set range correctly\n",
      "\u001b[0m\u001b[1;34m[swscaler @ 0x7fc5cb869000] \u001b[0m\u001b[1;34m[swscaler @ 0x7fc5cb8a1000] \u001b[0m\u001b[0;33mdeprecated pixel format used, make sure you did set range correctly\n",
      "\u001b[0m\u001b[1;34m[swscaler @ 0x7fc5cb869000] \u001b[0m\u001b[1;34m[swscaler @ 0x7fc5cb8b0000] \u001b[0m\u001b[0;33mdeprecated pixel format used, make sure you did set range correctly\n",
      "\u001b[0m\u001b[1;34m[swscaler @ 0x7fc5cb869000] \u001b[0m\u001b[1;34m[swscaler @ 0x7fc5cb8bf000] \u001b[0m\u001b[0;33mdeprecated pixel format used, make sure you did set range correctly\n",
      "\u001b[0m\u001b[1;34m[swscaler @ 0x7fc5cb869000] \u001b[0m\u001b[1;34m[swscaler @ 0x7fc5cb8ce000] \u001b[0m\u001b[0;33mdeprecated pixel format used, make sure you did set range correctly\n",
      "\u001b[0m\u001b[1;34m[swscaler @ 0x7fc5cb869000] \u001b[0m\u001b[1;34m[swscaler @ 0x7fc5cb8dd000] \u001b[0m\u001b[0;33mdeprecated pixel format used, make sure you did set range correctly\n",
      "\u001b[0m\u001b[1;34m[swscaler @ 0x7fc5cb869000] \u001b[0m\u001b[1;34m[swscaler @ 0x7fc5cb8ec000] \u001b[0m\u001b[0;33mdeprecated pixel format used, make sure you did set range correctly\n",
      "\u001b[0m\u001b[1;34m[swscaler @ 0x7fc5cb869000] \u001b[0m\u001b[1;34m[swscaler @ 0x7fc5cbf54000] \u001b[0m\u001b[0;33mdeprecated pixel format used, make sure you did set range correctly\n",
      "\u001b[0m\u001b[1;34m[swscaler @ 0x7fc5cb869000] \u001b[0m\u001b[1;34m[swscaler @ 0x7fc5cbf63000] \u001b[0m\u001b[0;33mdeprecated pixel format used, make sure you did set range correctly\n",
      "\u001b[0m\u001b[1;36m[libx264 @ 0x7fc5c95323c0] \u001b[0musing SAR=1/1\n",
      "\u001b[1;36m[libx264 @ 0x7fc5c95323c0] \u001b[0musing cpu capabilities: MMX2 SSE2Fast SSSE3 SSE4.2 AVX FMA3 BMI2 AVX2\n",
      "\u001b[1;36m[libx264 @ 0x7fc5c95323c0] \u001b[0mprofile High, level 5.1, 4:2:0, 8-bit\n",
      "\u001b[1;36m[libx264 @ 0x7fc5c95323c0] \u001b[0m264 - core 163 r3060 5db6aa6 - H.264/MPEG-4 AVC codec - Copyleft 2003-2021 - http://www.videolan.org/x264.html - options: cabac=1 ref=3 deblock=1:0:0 analyse=0x3:0x113 me=hex subme=7 psy=1 psy_rd=1.00:0.00 mixed_ref=1 me_range=16 chroma_me=1 trellis=1 8x8dct=1 cqm=0 deadzone=21,11 fast_pskip=1 chroma_qp_offset=-2 threads=12 lookahead_threads=2 sliced_threads=0 nr=0 decimate=1 interlaced=0 bluray_compat=0 constrained_intra=0 bframes=3 b_pyramid=2 b_adapt=1 b_bias=0 direct=1 weightb=1 open_gop=0 weightp=2 keyint=250 keyint_min=25 scenecut=40 intra_refresh=0 rc_lookahead=40 rc=crf mbtree=1 crf=23.0 qcomp=0.60 qpmin=0 qpmax=69 qpstep=4 ip_ratio=1.40 aq=1:1.00\n",
      "Output #0, mp4, to 'result.mp4':\n",
      "  Metadata:\n",
      "    encoder         : Lavf59.16.100\n",
      "  Stream #0:0: Video: h264 (avc1 / 0x31637661), yuv420p(tv, bt470bg/unknown/unknown, progressive), 3840x2160 [SAR 1:1 DAR 16:9], q=2-31, 30 fps, 15360 tbn\n",
      "    Metadata:\n",
      "      encoder         : Lavc59.18.100 libx264\n",
      "    Side data:\n",
      "      cpb: bitrate max/min/avg: 0/0/0 buffer size: 0 vbv_delay: N/A\n",
      "frame= 4479 fps=5.5 q=-1.0 Lsize=  856401kB time=00:02:29.20 bitrate=47021.7kbits/s speed=0.182x      \n",
      "video:856343kB audio:0kB subtitle:0kB other streams:0kB global headers:0kB muxing overhead: 0.006713%\n",
      "\u001b[1;36m[libx264 @ 0x7fc5c95323c0] \u001b[0mframe I:22    Avg QP:18.62  size:328126\n",
      "\u001b[1;36m[libx264 @ 0x7fc5c95323c0] \u001b[0mframe P:1249  Avg QP:21.75  size:238251\n",
      "\u001b[1;36m[libx264 @ 0x7fc5c95323c0] \u001b[0mframe B:3208  Avg QP:23.46  size:178335\n",
      "\u001b[1;36m[libx264 @ 0x7fc5c95323c0] \u001b[0mconsecutive B-frames:  4.4%  0.1%  0.5% 95.0%\n",
      "\u001b[1;36m[libx264 @ 0x7fc5c95323c0] \u001b[0mmb I  I16..4: 45.7% 52.0%  2.3%\n",
      "\u001b[1;36m[libx264 @ 0x7fc5c95323c0] \u001b[0mmb P  I16..4: 19.4% 42.2%  1.1%  P16..4: 10.4%  5.7%  4.1%  0.0%  0.0%    skip:17.0%\n",
      "\u001b[1;36m[libx264 @ 0x7fc5c95323c0] \u001b[0mmb B  I16..4:  5.9% 16.3%  0.3%  B16..8: 22.2% 10.0%  4.4%  direct: 9.0%  skip:31.7%  L0:46.6% L1:39.7% BI:13.7%\n",
      "\u001b[1;36m[libx264 @ 0x7fc5c95323c0] \u001b[0m8x8 transform intra:69.4% inter:94.6%\n",
      "\u001b[1;36m[libx264 @ 0x7fc5c95323c0] \u001b[0mcoded y,uvDC,uvAC intra: 37.1% 25.2% 0.2% inter: 22.1% 9.5% 0.1%\n",
      "\u001b[1;36m[libx264 @ 0x7fc5c95323c0] \u001b[0mi16 v,h,dc,p: 45% 28% 26%  1%\n",
      "\u001b[1;36m[libx264 @ 0x7fc5c95323c0] \u001b[0mi8 v,h,dc,ddl,ddr,vr,hd,vl,hu: 21% 20% 50%  3%  1%  1%  1%  1%  3%\n",
      "\u001b[1;36m[libx264 @ 0x7fc5c95323c0] \u001b[0mi4 v,h,dc,ddl,ddr,vr,hd,vl,hu: 21% 17% 19%  6%  8%  7%  8%  6%  8%\n",
      "\u001b[1;36m[libx264 @ 0x7fc5c95323c0] \u001b[0mi8c dc,h,v,p: 56% 22% 21%  1%\n",
      "\u001b[1;36m[libx264 @ 0x7fc5c95323c0] \u001b[0mWeighted P-Frames: Y:1.2% UV:0.1%\n",
      "\u001b[1;36m[libx264 @ 0x7fc5c95323c0] \u001b[0mref P L0: 52.0% 10.1% 22.6% 15.1%  0.1%\n",
      "\u001b[1;36m[libx264 @ 0x7fc5c95323c0] \u001b[0mref B L0: 81.6% 13.7%  4.7%\n",
      "\u001b[1;36m[libx264 @ 0x7fc5c95323c0] \u001b[0mref B L1: 92.9%  7.1%\n",
      "\u001b[1;36m[libx264 @ 0x7fc5c95323c0] \u001b[0mkb/s:46986.99\n"
     ]
    }
   ],
   "source": [
    "\n",
    "\n",
    "!ffmpeg -framerate 30 -pattern_type glob -i 'test/*.jpg' -c:v libx264 -pix_fmt yuv420p result.mp4\n"
   ]
  },
  {
   "cell_type": "code",
   "execution_count": null,
   "id": "annoying-highlight",
   "metadata": {},
   "outputs": [],
   "source": []
  }
 ],
 "metadata": {
  "kernelspec": {
   "display_name": "Python 3",
   "language": "python",
   "name": "python3"
  },
  "language_info": {
   "codemirror_mode": {
    "name": "ipython",
    "version": 3
   },
   "file_extension": ".py",
   "mimetype": "text/x-python",
   "name": "python",
   "nbconvert_exporter": "python",
   "pygments_lexer": "ipython3",
   "version": "3.9.12"
  }
 },
 "nbformat": 4,
 "nbformat_minor": 5
}
