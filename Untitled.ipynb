{
 "cells": [
  {
   "cell_type": "code",
   "execution_count": 3,
   "id": "effective-motel",
   "metadata": {},
   "outputs": [],
   "source": [
    "import cv2\n",
    "import matplotlib.pyplot as plt\n",
    "import numpy as np\n",
    "import json\n",
    "import os\n",
    "from pycocotools.coco import COCO\n",
    "plt.rcParams[\"figure.figsize\"] = (15,15)"
   ]
  },
  {
   "cell_type": "code",
   "execution_count": 5,
   "id": "confused-photography",
   "metadata": {},
   "outputs": [
    {
     "name": "stdout",
     "output_type": "stream",
     "text": [
      "loading annotations into memory...\n",
      "Done (t=0.01s)\n",
      "creating index...\n",
      "index created!\n"
     ]
    }
   ],
   "source": [
    "annFile = 'test.json'\n",
    "# initialize COCO api for instance annotations\n",
    "coco=COCO(annFile)"
   ]
  },
  {
   "cell_type": "code",
   "execution_count": 7,
   "id": "aquatic-athens",
   "metadata": {},
   "outputs": [],
   "source": [
    "cats = coco.loadCats(coco.getCatIds())\n",
    "nms=[cat['name'] for cat in cats]\n",
    "catIds = coco.getCatIds(catNms=nms);\n",
    "annIds = coco.getAnnIds(imgIds=0, catIds=catIds, iscrowd=None)\n",
    "anns = coco.loadAnns(annIds)"
   ]
  },
  {
   "cell_type": "code",
   "execution_count": 8,
   "id": "pleasant-hepatitis",
   "metadata": {
    "collapsed": true
   },
   "outputs": [
    {
     "data": {
      "text/plain": [
       "[{'id': 0,\n",
       "  'keypoints': None,\n",
       "  'category_id': 0,\n",
       "  'image_id': 0,\n",
       "  'bbox': [1892.622, 623.883, 47.185, 73.398],\n",
       "  'area': 3463.28463},\n",
       " {'id': 1,\n",
       "  'keypoints': None,\n",
       "  'category_id': 1,\n",
       "  'image_id': 0,\n",
       "  'bbox': [763.462, 917.118, 63.708, 91.011],\n",
       "  'area': 5798.128788},\n",
       " {'id': 215,\n",
       "  'keypoints': None,\n",
       "  'category_id': 2,\n",
       "  'image_id': 0,\n",
       "  'bbox': [2700.237, 1559.516, 94.275, 80.411],\n",
       "  'area': 7580.747025000001}]"
      ]
     },
     "execution_count": 8,
     "metadata": {},
     "output_type": "execute_result"
    }
   ],
   "source": [
    "anns"
   ]
  },
  {
   "cell_type": "code",
   "execution_count": null,
   "id": "metric-norway",
   "metadata": {},
   "outputs": [],
   "source": []
  },
  {
   "cell_type": "code",
   "execution_count": 19,
   "id": "verbal-viewer",
   "metadata": {},
   "outputs": [],
   "source": [
    "name = '2020731_JWSSeaLIonSUP'\n",
    "frame_folder = f'shark_frames/{name}'\n",
    "imgs = sorted(os.listdir(frame_folder))\n",
    "paths = [f'{frame_folder}/{f}' for f in imgs]\n",
    "imgs[0], imgs[-1], len(imgs)\n",
    "color = (255, 0 ,0)\n",
    "thickness = 10\n",
    "output_folder = 'test'"
   ]
  },
  {
   "cell_type": "code",
   "execution_count": 20,
   "id": "vertical-treatment",
   "metadata": {},
   "outputs": [],
   "source": [
    "frame_num = len(imgs)"
   ]
  },
  {
   "cell_type": "code",
   "execution_count": 22,
   "id": "enhanced-ireland",
   "metadata": {},
   "outputs": [],
   "source": [
    "# add text later \n",
    "# show every 500\n",
    "show=100\n",
    "for i in range(frame_num):\n",
    "    fn = paths[i]\n",
    "    image = cv2.cvtColor(cv2.imread(fn), cv2.COLOR_BGR2RGB)\n",
    "    annIds = coco.getAnnIds(imgIds=i, catIds=catIds, iscrowd=None)\n",
    "    anns = coco.loadAnns(annIds)\n",
    "    for v in anns:\n",
    "        rects = np.array(v['bbox']).astype(int)\n",
    "        s = tuple(rects[:2])\n",
    "        e = tuple(rects[:2] + rects[2:])\n",
    "        image = cv2.rectangle(image, s, e, color, thickness)\n",
    "    out_fn = f'{output_folder}/{imgs[i]}'\n",
    "    if len(anns) >0 and not cv2.imwrite(out_fn, image):\n",
    "        print(out_fn)\n",
    "#     if i%show == 0:\n",
    "#         print(i)\n",
    "#         plt.imshow(image)\n",
    "#         plt.show()"
   ]
  },
  {
   "cell_type": "code",
   "execution_count": 24,
   "id": "prerequisite-compression",
   "metadata": {},
   "outputs": [
    {
     "name": "stdout",
     "output_type": "stream",
     "text": [
      "ffmpeg version 5.0.1 Copyright (c) 2000-2022 the FFmpeg developers\n",
      "  built with Apple clang version 13.0.0 (clang-1300.0.29.30)\n",
      "  configuration: --prefix=/usr/local/Cellar/ffmpeg/5.0.1 --enable-shared --enable-pthreads --enable-version3 --cc=clang --host-cflags= --host-ldflags= --enable-ffplay --enable-gnutls --enable-gpl --enable-libaom --enable-libbluray --enable-libdav1d --enable-libmp3lame --enable-libopus --enable-librav1e --enable-librist --enable-librubberband --enable-libsnappy --enable-libsrt --enable-libtesseract --enable-libtheora --enable-libvidstab --enable-libvmaf --enable-libvorbis --enable-libvpx --enable-libwebp --enable-libx264 --enable-libx265 --enable-libxml2 --enable-libxvid --enable-lzma --enable-libfontconfig --enable-libfreetype --enable-frei0r --enable-libass --enable-libopencore-amrnb --enable-libopencore-amrwb --enable-libopenjpeg --enable-libspeex --enable-libsoxr --enable-libzmq --enable-libzimg --disable-libjack --disable-indev=jack --enable-videotoolbox\n",
      "  libavutil      57. 17.100 / 57. 17.100\n",
      "  libavcodec     59. 18.100 / 59. 18.100\n",
      "  libavformat    59. 16.100 / 59. 16.100\n",
      "  libavdevice    59.  4.100 / 59.  4.100\n",
      "  libavfilter     8. 24.100 /  8. 24.100\n",
      "  libswscale      6.  4.100 /  6.  4.100\n",
      "  libswresample   4.  3.100 /  4.  3.100\n",
      "  libpostproc    56.  3.100 / 56.  3.100\n",
      "Input #0, image2, from 'test/*.jpg':\n",
      "  Duration: 00:00:20.83, start: 0.000000, bitrate: N/A\n",
      "  Stream #0:0: Video: mjpeg (Baseline), yuvj420p(pc, bt470bg/unknown/unknown), 3840x2160 [SAR 1:1 DAR 16:9], 30 fps, 30 tbr, 30 tbn\n",
      "Stream mapping:\n",
      "  Stream #0:0 -> #0:0 (mjpeg (native) -> h264 (libx264))\n",
      "Press [q] to stop, [?] for help\n",
      "\u001b[1;34m[swscaler @ 0x7fa45b7de000] \u001b[0m\u001b[1;34m[swscaler @ 0x7fa45b7eb000] \u001b[0m\u001b[0;33mdeprecated pixel format used, make sure you did set range correctly\n",
      "\u001b[0m\u001b[1;34m[swscaler @ 0x7fa45b7de000] \u001b[0m\u001b[1;34m[swscaler @ 0x7fa45e589000] \u001b[0m\u001b[0;33mdeprecated pixel format used, make sure you did set range correctly\n",
      "\u001b[0m\u001b[1;34m[swscaler @ 0x7fa45b7de000] \u001b[0m\u001b[1;34m[swscaler @ 0x7fa45e598000] \u001b[0m\u001b[0;33mdeprecated pixel format used, make sure you did set range correctly\n",
      "\u001b[0m\u001b[1;34m[swscaler @ 0x7fa45b7de000] \u001b[0m\u001b[1;34m[swscaler @ 0x7fa45e5a7000] \u001b[0m\u001b[0;33mdeprecated pixel format used, make sure you did set range correctly\n",
      "\u001b[0m\u001b[1;34m[swscaler @ 0x7fa45b7de000] \u001b[0m\u001b[1;34m[swscaler @ 0x7fa45e5b6000] \u001b[0m\u001b[0;33mdeprecated pixel format used, make sure you did set range correctly\n",
      "\u001b[0m\u001b[1;34m[swscaler @ 0x7fa45b7de000] \u001b[0m\u001b[1;34m[swscaler @ 0x7fa45e5c5000] \u001b[0m\u001b[0;33mdeprecated pixel format used, make sure you did set range correctly\n",
      "\u001b[0m\u001b[1;34m[swscaler @ 0x7fa45b7de000] \u001b[0m\u001b[1;34m[swscaler @ 0x7fa45e5d4000] \u001b[0m\u001b[0;33mdeprecated pixel format used, make sure you did set range correctly\n",
      "\u001b[0m\u001b[1;34m[swscaler @ 0x7fa45b7de000] \u001b[0m\u001b[1;34m[swscaler @ 0x7fa45e5e3000] \u001b[0m\u001b[0;33mdeprecated pixel format used, make sure you did set range correctly\n",
      "\u001b[0m\u001b[1;34m[swscaler @ 0x7fa45b7de000] \u001b[0m\u001b[1;34m[swscaler @ 0x7fa45e5f2000] \u001b[0m\u001b[0;33mdeprecated pixel format used, make sure you did set range correctly\n",
      "\u001b[0m\u001b[1;36m[libx264 @ 0x7fa45b30a900] \u001b[0musing SAR=1/1\n",
      "\u001b[1;36m[libx264 @ 0x7fa45b30a900] \u001b[0musing cpu capabilities: MMX2 SSE2Fast SSSE3 SSE4.2 AVX FMA3 BMI2 AVX2\n",
      "\u001b[1;36m[libx264 @ 0x7fa45b30a900] \u001b[0mprofile High, level 5.1, 4:2:0, 8-bit\n",
      "\u001b[1;36m[libx264 @ 0x7fa45b30a900] \u001b[0m264 - core 163 r3060 5db6aa6 - H.264/MPEG-4 AVC codec - Copyleft 2003-2021 - http://www.videolan.org/x264.html - options: cabac=1 ref=3 deblock=1:0:0 analyse=0x3:0x113 me=hex subme=7 psy=1 psy_rd=1.00:0.00 mixed_ref=1 me_range=16 chroma_me=1 trellis=1 8x8dct=1 cqm=0 deadzone=21,11 fast_pskip=1 chroma_qp_offset=-2 threads=12 lookahead_threads=2 sliced_threads=0 nr=0 decimate=1 interlaced=0 bluray_compat=0 constrained_intra=0 bframes=3 b_pyramid=2 b_adapt=1 b_bias=0 direct=1 weightb=1 open_gop=0 weightp=2 keyint=250 keyint_min=25 scenecut=40 intra_refresh=0 rc_lookahead=40 rc=crf mbtree=1 crf=23.0 qcomp=0.60 qpmin=0 qpmax=69 qpstep=4 ip_ratio=1.40 aq=1:1.00\n",
      "Output #0, mp4, to '20200805_OneSharkSUPFollowsKids_result.mp4':\n",
      "  Metadata:\n",
      "    encoder         : Lavf59.16.100\n",
      "  Stream #0:0: Video: h264 (avc1 / 0x31637661), yuv420p(tv, bt470bg/unknown/unknown, progressive), 3840x2160 [SAR 1:1 DAR 16:9], q=2-31, 30 fps, 15360 tbn\n",
      "    Metadata:\n",
      "      encoder         : Lavc59.18.100 libx264\n",
      "    Side data:\n",
      "      cpb: bitrate max/min/avg: 0/0/0 buffer size: 0 vbv_delay: N/A\n",
      "frame=  625 fps=5.3 q=-1.0 Lsize=  105015kB time=00:00:20.73 bitrate=41492.7kbits/s speed=0.174x    x    \n",
      "video:105007kB audio:0kB subtitle:0kB other streams:0kB global headers:0kB muxing overhead: 0.008320%\n",
      "\u001b[1;36m[libx264 @ 0x7fa45b30a900] \u001b[0mframe I:4     Avg QP:18.62  size:244432\n",
      "\u001b[1;36m[libx264 @ 0x7fa45b30a900] \u001b[0mframe P:198   Avg QP:20.90  size:194153\n",
      "\u001b[1;36m[libx264 @ 0x7fa45b30a900] \u001b[0mframe B:423   Avg QP:22.19  size:161007\n",
      "\u001b[1;36m[libx264 @ 0x7fa45b30a900] \u001b[0mconsecutive B-frames:  9.6%  0.0%  1.4% 89.0%\n",
      "\u001b[1;36m[libx264 @ 0x7fa45b30a900] \u001b[0mmb I  I16..4: 48.6% 51.3%  0.1%\n",
      "\u001b[1;36m[libx264 @ 0x7fa45b30a900] \u001b[0mmb P  I16..4: 18.2% 48.3%  0.7%  P16..4:  8.2%  4.0%  2.7%  0.0%  0.0%    skip:17.9%\n",
      "\u001b[1;36m[libx264 @ 0x7fa45b30a900] \u001b[0mmb B  I16..4:  5.0% 16.0%  0.2%  B16..8: 24.2% 10.1%  3.0%  direct:10.1%  skip:31.5%  L0:47.1% L1:37.5% BI:15.4%\n",
      "\u001b[1;36m[libx264 @ 0x7fa45b30a900] \u001b[0m8x8 transform intra:73.0% inter:95.3%\n",
      "\u001b[1;36m[libx264 @ 0x7fa45b30a900] \u001b[0mcoded y,uvDC,uvAC intra: 33.6% 22.7% 0.1% inter: 20.3% 11.1% 0.1%\n",
      "\u001b[1;36m[libx264 @ 0x7fa45b30a900] \u001b[0mi16 v,h,dc,p: 60% 23% 17%  0%\n",
      "\u001b[1;36m[libx264 @ 0x7fa45b30a900] \u001b[0mi8 v,h,dc,ddl,ddr,vr,hd,vl,hu: 25% 20% 46%  2%  1%  1%  1%  1%  2%\n",
      "\u001b[1;36m[libx264 @ 0x7fa45b30a900] \u001b[0mi4 v,h,dc,ddl,ddr,vr,hd,vl,hu: 18% 20% 15%  6%  8%  6% 11%  6% 10%\n",
      "\u001b[1;36m[libx264 @ 0x7fa45b30a900] \u001b[0mi8c dc,h,v,p: 61% 18% 21%  0%\n",
      "\u001b[1;36m[libx264 @ 0x7fa45b30a900] \u001b[0mWeighted P-Frames: Y:7.1% UV:0.5%\n",
      "\u001b[1;36m[libx264 @ 0x7fa45b30a900] \u001b[0mref P L0: 48.1%  9.4% 25.8% 15.7%  1.0%\n",
      "\u001b[1;36m[libx264 @ 0x7fa45b30a900] \u001b[0mref B L0: 81.2% 14.1%  4.7%\n",
      "\u001b[1;36m[libx264 @ 0x7fa45b30a900] \u001b[0mref B L1: 92.5%  7.5%\n",
      "\u001b[1;36m[libx264 @ 0x7fa45b30a900] \u001b[0mkb/s:41290.01\n"
     ]
    }
   ],
   "source": [
    "\n",
    "\n",
    "!ffmpeg -framerate 30 -pattern_type glob -i 'test/*.jpg' -c:v libx264 -pix_fmt yuv420p 20200805_OneSharkSUPFollowsKids_result.mp4\n"
   ]
  },
  {
   "cell_type": "code",
   "execution_count": 25,
   "id": "coupled-microphone",
   "metadata": {},
   "outputs": [
    {
     "name": "stdout",
     "output_type": "stream",
     "text": [
      "ffmpeg version 5.0.1 Copyright (c) 2000-2022 the FFmpeg developers\n",
      "  built with Apple clang version 13.0.0 (clang-1300.0.29.30)\n",
      "  configuration: --prefix=/usr/local/Cellar/ffmpeg/5.0.1 --enable-shared --enable-pthreads --enable-version3 --cc=clang --host-cflags= --host-ldflags= --enable-ffplay --enable-gnutls --enable-gpl --enable-libaom --enable-libbluray --enable-libdav1d --enable-libmp3lame --enable-libopus --enable-librav1e --enable-librist --enable-librubberband --enable-libsnappy --enable-libsrt --enable-libtesseract --enable-libtheora --enable-libvidstab --enable-libvmaf --enable-libvorbis --enable-libvpx --enable-libwebp --enable-libx264 --enable-libx265 --enable-libxml2 --enable-libxvid --enable-lzma --enable-libfontconfig --enable-libfreetype --enable-frei0r --enable-libass --enable-libopencore-amrnb --enable-libopencore-amrwb --enable-libopenjpeg --enable-libspeex --enable-libsoxr --enable-libzmq --enable-libzimg --disable-libjack --disable-indev=jack --enable-videotoolbox\n",
      "  libavutil      57. 17.100 / 57. 17.100\n",
      "  libavcodec     59. 18.100 / 59. 18.100\n",
      "  libavformat    59. 16.100 / 59. 16.100\n",
      "  libavdevice    59.  4.100 / 59.  4.100\n",
      "  libavfilter     8. 24.100 /  8. 24.100\n",
      "  libswscale      6.  4.100 /  6.  4.100\n",
      "  libswresample   4.  3.100 /  4.  3.100\n",
      "  libpostproc    56.  3.100 / 56.  3.100\n",
      "Input #0, image2, from 'test/*.jpg':\n",
      "  Duration: 00:02:23.84, start: 0.000000, bitrate: N/A\n",
      "  Stream #0:0: Video: mjpeg (Baseline), yuvj420p(pc, bt470bg/unknown/unknown), 3840x2160 [SAR 1:1 DAR 16:9], 45 fps, 45 tbr, 45 tbn\n",
      "Stream mapping:\n",
      "  Stream #0:0 -> #0:0 (mjpeg (native) -> h264 (libx264))\n",
      "Press [q] to stop, [?] for help\n",
      "\u001b[1;34m[swscaler @ 0x7fb210876000] \u001b[0m\u001b[1;34m[swscaler @ 0x7fb210883000] \u001b[0m\u001b[0;33mdeprecated pixel format used, make sure you did set range correctly\n",
      "\u001b[0m\u001b[1;34m[swscaler @ 0x7fb210876000] \u001b[0m\u001b[1;34m[swscaler @ 0x7fb2108ae000] \u001b[0m\u001b[0;33mdeprecated pixel format used, make sure you did set range correctly\n",
      "\u001b[0m\u001b[1;34m[swscaler @ 0x7fb210876000] \u001b[0m\u001b[1;34m[swscaler @ 0x7fb2108bd000] \u001b[0m\u001b[0;33mdeprecated pixel format used, make sure you did set range correctly\n",
      "\u001b[0m\u001b[1;34m[swscaler @ 0x7fb210876000] \u001b[0m\u001b[1;34m[swscaler @ 0x7fb2108cc000] \u001b[0m\u001b[0;33mdeprecated pixel format used, make sure you did set range correctly\n",
      "\u001b[0m\u001b[1;34m[swscaler @ 0x7fb210876000] \u001b[0m\u001b[1;34m[swscaler @ 0x7fb2108db000] \u001b[0m\u001b[0;33mdeprecated pixel format used, make sure you did set range correctly\n",
      "\u001b[0m\u001b[1;34m[swscaler @ 0x7fb210876000] \u001b[0m\u001b[1;34m[swscaler @ 0x7fb2108ea000] \u001b[0m\u001b[0;33mdeprecated pixel format used, make sure you did set range correctly\n",
      "\u001b[0m\u001b[1;34m[swscaler @ 0x7fb210876000] \u001b[0m\u001b[1;34m[swscaler @ 0x7fb210f52000] \u001b[0m\u001b[0;33mdeprecated pixel format used, make sure you did set range correctly\n",
      "\u001b[0m\u001b[1;34m[swscaler @ 0x7fb210876000] \u001b[0m\u001b[1;34m[swscaler @ 0x7fb210f61000] \u001b[0m\u001b[0;33mdeprecated pixel format used, make sure you did set range correctly\n",
      "\u001b[0m\u001b[1;34m[swscaler @ 0x7fb210876000] \u001b[0m\u001b[1;34m[swscaler @ 0x7fb210f70000] \u001b[0m\u001b[0;33mdeprecated pixel format used, make sure you did set range correctly\n",
      "\u001b[0m\u001b[1;36m[libx264 @ 0x7fb20f53a080] \u001b[0musing SAR=1/1\n",
      "\u001b[1;36m[libx264 @ 0x7fb20f53a080] \u001b[0musing cpu capabilities: MMX2 SSE2Fast SSSE3 SSE4.2 AVX FMA3 BMI2 AVX2\n",
      "\u001b[1;36m[libx264 @ 0x7fb20f53a080] \u001b[0mprofile High, level 5.2, 4:2:0, 8-bit\n",
      "\u001b[1;36m[libx264 @ 0x7fb20f53a080] \u001b[0m264 - core 163 r3060 5db6aa6 - H.264/MPEG-4 AVC codec - Copyleft 2003-2021 - http://www.videolan.org/x264.html - options: cabac=1 ref=3 deblock=1:0:0 analyse=0x3:0x113 me=hex subme=7 psy=1 psy_rd=1.00:0.00 mixed_ref=1 me_range=16 chroma_me=1 trellis=1 8x8dct=1 cqm=0 deadzone=21,11 fast_pskip=1 chroma_qp_offset=-2 threads=12 lookahead_threads=2 sliced_threads=0 nr=0 decimate=1 interlaced=0 bluray_compat=0 constrained_intra=0 bframes=3 b_pyramid=2 b_adapt=1 b_bias=0 direct=1 weightb=1 open_gop=0 weightp=2 keyint=250 keyint_min=25 scenecut=40 intra_refresh=0 rc_lookahead=40 rc=crf mbtree=1 crf=23.0 qcomp=0.60 qpmin=0 qpmax=69 qpstep=4 ip_ratio=1.40 aq=1:1.00\n",
      "Output #0, mp4, to 'coco_res.mp4':\n",
      "  Metadata:\n",
      "    encoder         : Lavf59.16.100\n",
      "  Stream #0:0: Video: h264 (avc1 / 0x31637661), yuv420p(tv, bt470bg/unknown/unknown, progressive), 3840x2160 [SAR 1:1 DAR 16:9], q=2-31, 45 fps, 11520 tbn\n",
      "    Metadata:\n",
      "      encoder         : Lavc59.18.100 libx264\n",
      "    Side data:\n",
      "      cpb: bitrate max/min/avg: 0/0/0 buffer size: 0 vbv_delay: N/A\n",
      "frame= 6473 fps=4.5 q=-1.0 Lsize=  903924kB time=00:02:23.77 bitrate=51502.7kbits/s speed=0.0994x     \n",
      "video:903848kB audio:0kB subtitle:0kB other streams:0kB global headers:0kB muxing overhead: 0.008410%\n",
      "\u001b[1;36m[libx264 @ 0x7fb20f53a080] \u001b[0mframe I:83    Avg QP:20.35  size:196173\n",
      "\u001b[1;36m[libx264 @ 0x7fb20f53a080] \u001b[0mframe P:2263  Avg QP:23.47  size:159924\n",
      "\u001b[1;36m[libx264 @ 0x7fb20f53a080] \u001b[0mframe B:4127  Avg QP:24.15  size:132627\n",
      "\u001b[1;36m[libx264 @ 0x7fb20f53a080] \u001b[0mconsecutive B-frames: 14.5%  1.0%  1.7% 82.8%\n",
      "\u001b[1;36m[libx264 @ 0x7fb20f53a080] \u001b[0mmb I  I16..4: 54.4% 44.6%  1.0%\n",
      "\u001b[1;36m[libx264 @ 0x7fb20f53a080] \u001b[0mmb P  I16..4: 35.6% 44.7%  0.4%  P16..4:  6.1%  2.3%  1.2%  0.0%  0.0%    skip: 9.5%\n",
      "\u001b[1;36m[libx264 @ 0x7fb20f53a080] \u001b[0mmb B  I16..4: 15.7% 29.8%  0.3%  B16..8: 14.9%  6.2%  2.0%  direct: 4.9%  skip:26.0%  L0:51.5% L1:39.0% BI: 9.5%\n",
      "\u001b[1;36m[libx264 @ 0x7fb20f53a080] \u001b[0m8x8 transform intra:59.9% inter:94.2%\n",
      "\u001b[1;36m[libx264 @ 0x7fb20f53a080] \u001b[0mcoded y,uvDC,uvAC intra: 32.0% 37.3% 0.4% inter: 18.5% 16.4% 0.5%\n",
      "\u001b[1;36m[libx264 @ 0x7fb20f53a080] \u001b[0mi16 v,h,dc,p: 41% 34% 25%  0%\n",
      "\u001b[1;36m[libx264 @ 0x7fb20f53a080] \u001b[0mi8 v,h,dc,ddl,ddr,vr,hd,vl,hu: 21% 22% 50%  2%  1%  0%  1%  1%  3%\n",
      "\u001b[1;36m[libx264 @ 0x7fb20f53a080] \u001b[0mi4 v,h,dc,ddl,ddr,vr,hd,vl,hu: 26% 18% 21%  6%  7%  6%  6%  5%  6%\n",
      "\u001b[1;36m[libx264 @ 0x7fb20f53a080] \u001b[0mi8c dc,h,v,p: 50% 25% 23%  1%\n",
      "\u001b[1;36m[libx264 @ 0x7fb20f53a080] \u001b[0mWeighted P-Frames: Y:4.3% UV:1.8%\n",
      "\u001b[1;36m[libx264 @ 0x7fb20f53a080] \u001b[0mref P L0: 48.3%  8.9% 25.2% 17.1%  0.6%\n",
      "\u001b[1;36m[libx264 @ 0x7fb20f53a080] \u001b[0mref B L0: 78.4% 16.1%  5.5%\n",
      "\u001b[1;36m[libx264 @ 0x7fb20f53a080] \u001b[0mref B L1: 89.9% 10.1%\n",
      "\u001b[1;36m[libx264 @ 0x7fb20f53a080] \u001b[0mkb/s:51474.47\n"
     ]
    }
   ],
   "source": [
    "!ffmpeg -framerate 45 -pattern_type glob -i 'test/*.jpg' -c:v libx264 -pix_fmt yuv420p coco_res.mp4\n"
   ]
  },
  {
   "cell_type": "code",
   "execution_count": null,
   "id": "annoying-highlight",
   "metadata": {},
   "outputs": [],
   "source": []
  }
 ],
 "metadata": {
  "kernelspec": {
   "display_name": "Python 3",
   "language": "python",
   "name": "python3"
  },
  "language_info": {
   "codemirror_mode": {
    "name": "ipython",
    "version": 3
   },
   "file_extension": ".py",
   "mimetype": "text/x-python",
   "name": "python",
   "nbconvert_exporter": "python",
   "pygments_lexer": "ipython3",
   "version": "3.9.12"
  }
 },
 "nbformat": 4,
 "nbformat_minor": 5
}
